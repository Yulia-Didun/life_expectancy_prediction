{
 "cells": [
  {
   "cell_type": "markdown",
   "id": "1aa3f671-156a-4bf7-a4f9-4f858eb4e3ac",
   "metadata": {},
   "source": [
    "# Merging Life Expectancy and Smoking Rate Data"
   ]
  },
  {
   "cell_type": "markdown",
   "id": "70bb42de-6ec2-4030-8123-71f55dcdad8e",
   "metadata": {},
   "source": [
    "### 1. Loading and Preprocessing the Data"
   ]
  },
  {
   "cell_type": "code",
   "execution_count": 1,
   "id": "d760f2ec-bc17-4b4d-b84d-d4b55cc84d55",
   "metadata": {},
   "outputs": [],
   "source": [
    "import pandas as pd"
   ]
  },
  {
   "cell_type": "code",
   "execution_count": 2,
   "id": "d0e4ba0d-9dec-4b4d-bdb8-50bbbf5c7060",
   "metadata": {},
   "outputs": [],
   "source": [
    "life_df = pd.read_csv(\"Life Expectancy Data.csv\")\n",
    "\n",
    "smoking_df = pd.read_csv(\"share-of-adults-who-smoke.csv\")\n",
    "smoking_df.rename(columns={\"Entity\": \"Country\", \n",
    "                           \"Share of adults who smoke or use tobacco (age-standardized)\": \"Smoking rate\"\n",
    "                          }, inplace=True)\n",
    "smoking_df = smoking_df.drop(columns=['Code'], axis=1)"
   ]
  },
  {
   "cell_type": "markdown",
   "id": "14b4c81a-a33b-4ddf-b028-c012bc25db3d",
   "metadata": {},
   "source": [
    "### 2.  Unifying Country Names"
   ]
  },
  {
   "cell_type": "markdown",
   "id": "b27074c8-cca0-4aad-bd1d-c0a761264569",
   "metadata": {},
   "source": [
    "Some countries had different names across various sources. These names were standardized to ensure correct data merging."
   ]
  },
  {
   "cell_type": "code",
   "execution_count": 3,
   "id": "4cbaf67e-96b4-4e90-a3d6-e6dcd0764057",
   "metadata": {},
   "outputs": [],
   "source": [
    "country_renames = {\n",
    "    'Democratic Republic of the Congo': 'Democratic Republic of Congo',\n",
    "    'Iran (Islamic Republic of)': 'Iran',\n",
    "    'United Republic of Tanzania': 'Tanzania',\n",
    "    'Timor-Leste': 'East Timor',\n",
    "    'United Kingdom of Great Britain and Northern Ireland': 'United Kingdom',\n",
    "    'Micronesia (Federated States of)': 'Micronesia',\n",
    "    'Viet Nam': 'Vietnam',\n",
    "    'Republic of Moldova': 'Moldova',\n",
    "    \"Lao People's Democratic Republic\": 'Laos',\n",
    "    'Dominica': 'Dominican Republic',\n",
    "    'Bolivia (Plurinational State of)': 'Bolivia',\n",
    "    'Cabo Verde': 'Cape Verde',\n",
    "    \"Côte d'Ivoire\": \"Cote d'Ivoire\",\n",
    "    'Brunei Darussalam': 'Brunei',\n",
    "    'Russian Federation': 'Russia',\n",
    "    'United States of America': 'United States',\n",
    "    'Saint Kitts and Nevis': 'Saint Kitts & Nevis',\n",
    "    'Saint Vincent and the Grenadines': 'Saint Vincent & the Grenadines',\n",
    "    'The former Yugoslav republic of Macedonia': 'North Macedonia',\n",
    "    'Swaziland': 'Eswatini',\n",
    "    'Republic of Korea': 'South Korea',\n",
    "    \"Democratic People's Republic of Korea\": \"North Korea\"\n",
    "}\n",
    "\n",
    "life_df['Country'] = life_df['Country'].replace(country_renames)"
   ]
  },
  {
   "cell_type": "markdown",
   "id": "3a445396-6374-499d-9343-e3d2a1ea598f",
   "metadata": {},
   "source": [
    "### 3. Merging the Datasets"
   ]
  },
  {
   "cell_type": "markdown",
   "id": "c19bc1ed-bc39-4258-8e97-c7e82cee5022",
   "metadata": {},
   "source": [
    "The data was merged based on the Country and Year columns."
   ]
  },
  {
   "cell_type": "code",
   "execution_count": 4,
   "id": "f7e131d2-b56f-454a-a0aa-6c39fd263a92",
   "metadata": {},
   "outputs": [],
   "source": [
    "data = pd.merge(life_df, smoking_df, on=[\"Country\", \"Year\"], how=\"left\")"
   ]
  },
  {
   "cell_type": "markdown",
   "id": "91bd35f4-cde3-4754-8843-579118352381",
   "metadata": {},
   "source": [
    "### 4. Filling Missing Values"
   ]
  },
  {
   "cell_type": "code",
   "execution_count": 5,
   "id": "e7d75e77-4bb4-4973-80fc-89aa796687ae",
   "metadata": {},
   "outputs": [
    {
     "name": "stdout",
     "output_type": "stream",
     "text": [
      "Countries with completely missing values:\n",
      "['Djibouti', 'South Sudan', 'North Macedonia', 'Tajikistan', 'Syrian Arab Republic', 'Suriname', 'Central African Republic', 'Sudan', 'Somalia', 'Mozambique', 'Guinea', 'Grenada', 'Gabon', 'Saint Vincent & the Grenadines', 'Equatorial Guinea', 'Eritrea', 'Trinidad and Tobago', 'Nicaragua', 'Libya', 'Angola', 'Antigua and Barbuda', 'Venezuela (Bolivarian Republic of)', 'Micronesia', 'Vanuatu', 'Saint Kitts & Nevis', 'Marshall Islands', 'Niue', 'Monaco', 'Cook Islands', 'Tuvalu', 'Nauru', 'Palau', 'San Marino']\n"
     ]
    }
   ],
   "source": [
    "missing_by_country = data[data['Smoking rate'].isna()]['Country'].value_counts()\n",
    "print(\"Countries with completely missing values:\")\n",
    "print([country for country in missing_by_country.index if data[data['Country'] == country]['Smoking rate'].isna().all()])"
   ]
  },
  {
   "cell_type": "markdown",
   "id": "1687db7e-5a7c-44ad-9693-49f0c2fb1bc7",
   "metadata": {},
   "source": [
    "For some African countries, average values for \"Africa\" were used."
   ]
  },
  {
   "cell_type": "code",
   "execution_count": 14,
   "id": "25f5b031-d357-4d3d-86ff-5d1cf7431782",
   "metadata": {},
   "outputs": [],
   "source": [
    "african_missing = [\n",
    "    'Libya', 'Central African Republic', 'Djibouti', 'Guinea',\n",
    "    'Somalia', 'Mozambique', 'Sudan', 'Equatorial Guinea',\n",
    "    'Angola', 'South Sudan', 'Gabon', 'Eritrea'\n",
    "]\n",
    "\n",
    "for country in african_missing:\n",
    "    country_years = data.loc[data['Country'] == country, 'Year']\n",
    "    for year in country_years:\n",
    "        africa_value = smoking_df.loc[\n",
    "            (smoking_df['Country'] == 'Africa') & (smoking_df['Year'] == year),\n",
    "            'Smoking rate'\n",
    "        ]\n",
    "        if not africa_value.empty:\n",
    "            data.loc[\n",
    "                (data['Country'] == country) & (data['Year'] == year),\n",
    "                'Smoking rate'\n",
    "            ] = africa_value.values[0]"
   ]
  },
  {
   "cell_type": "markdown",
   "id": "cb257aa2-eb04-4613-aaf7-d077a7c33ead",
   "metadata": {},
   "source": [
    "For other countries similar countries or regions were used."
   ]
  },
  {
   "cell_type": "code",
   "execution_count": 16,
   "id": "56f24900-dbdb-4fed-a20b-79199e8fc49c",
   "metadata": {},
   "outputs": [],
   "source": [
    "country_fill_map = {\n",
    "    'Grenada': 'Barbados',\n",
    "    'Antigua and Barbuda': 'Barbados',\n",
    "    'Saint Vincent & the Grenadines': 'Saint Lucia',\n",
    "    'Tajikistan': 'Asia',\n",
    "    'Vanuatu': 'Oceania',\n",
    "    'Suriname': 'South America',\n",
    "    'Micronesia': 'Oceania',\n",
    "    'Nicaragua': 'South America',\n",
    "    'North Macedonia': 'Serbia',\n",
    "    'Trinidad and Tobago': 'Barbados',\n",
    "    'Venezuela (Bolivarian Republic of)': 'South America',\n",
    "    'Syrian Arab Republic': 'Asia'\n",
    "}\n",
    "\n",
    "for target_country, source_country in country_fill_map.items():\n",
    "    for year in data[data['Country'] == target_country]['Year'].unique():\n",
    "        value = smoking_df.loc[\n",
    "            (smoking_df['Country'] == source_country) &\n",
    "            (smoking_df['Year'] == year),\n",
    "            'Smoking rate'\n",
    "        ]\n",
    "        if not value.empty:\n",
    "            data.loc[\n",
    "                (data['Country'] == target_country) & \n",
    "                (data['Year'] == year), \n",
    "                'Smoking rate'\n",
    "            ] = value.values[0]"
   ]
  },
  {
   "cell_type": "markdown",
   "id": "4136bc93-2206-4ee6-96c2-f7cc3adf8dd3",
   "metadata": {},
   "source": [
    "For countries where data was entirely missing, only data from one year (2015) was available and was inserted for 2013 if no other option was possible."
   ]
  },
  {
   "cell_type": "code",
   "execution_count": 18,
   "id": "a61c67aa-9931-430f-bafc-866a84610571",
   "metadata": {},
   "outputs": [],
   "source": [
    "country_fill_map = {\n",
    "    'Cook Islands': 'Oceania',\n",
    "    'Marshall Islands': 'Oceania',\n",
    "    'Monaco': 'France',\n",
    "    'Nauru': 'Oceania',\n",
    "    'Niue': 'New Zealand',\n",
    "    'Palau': 'Oceania',\n",
    "    'Saint Kitts & Nevis': 'Saint Lucia',\n",
    "    'San Marino': 'Italy',\n",
    "    'Tuvalu': 'Oceania'\n",
    "}\n",
    "\n",
    "for target_country, source_country in country_fill_map.items():\n",
    "    source_value = smoking_df.loc[\n",
    "        (smoking_df['Country'] == source_country) & \n",
    "        (smoking_df['Year'] == 2015),\n",
    "        'Smoking rate'\n",
    "    ]\n",
    "    if not source_value.empty:\n",
    "        data.loc[\n",
    "            (data['Country'] == target_country) & \n",
    "            (data['Year'] == 2013), \n",
    "            'Smoking rate'\n",
    "        ] = source_value.values[0]"
   ]
  },
  {
   "cell_type": "markdown",
   "id": "00f2de55-5819-4ead-8998-99d02b6f0fa4",
   "metadata": {},
   "source": [
    "### 5. Interpolation and Final Cleaning"
   ]
  },
  {
   "cell_type": "markdown",
   "id": "4c0d6d4a-b0b7-4bc8-8c0d-a17e26f08e75",
   "metadata": {},
   "source": [
    "Linear interpolation across years was used to smoothly fill in missing values."
   ]
  },
  {
   "cell_type": "code",
   "execution_count": 21,
   "id": "7789b108-dbbe-42ff-8f73-803c73883fe3",
   "metadata": {},
   "outputs": [],
   "source": [
    "data = data.sort_values(['Country', 'Year'])\n",
    "data['Smoking rate'] = data.groupby('Country')['Smoking rate'].transform(lambda x: x.interpolate(method='linear'))\n",
    "data['Smoking rate'] = data.groupby('Country')['Smoking rate'].transform(lambda x: x.bfill().ffill())"
   ]
  },
  {
   "cell_type": "code",
   "execution_count": 22,
   "id": "88f02a61-9dcc-4763-9b9e-19e583838a0e",
   "metadata": {
    "scrolled": true
   },
   "outputs": [
    {
     "name": "stdout",
     "output_type": "stream",
     "text": [
      "<class 'pandas.core.frame.DataFrame'>\n",
      "Index: 2938 entries, 15 to 2922\n",
      "Data columns (total 23 columns):\n",
      " #   Column                           Non-Null Count  Dtype  \n",
      "---  ------                           --------------  -----  \n",
      " 0   Country                          2938 non-null   object \n",
      " 1   Year                             2938 non-null   int64  \n",
      " 2   Status                           2938 non-null   object \n",
      " 3   Life expectancy                  2928 non-null   float64\n",
      " 4   Adult Mortality                  2928 non-null   float64\n",
      " 5   infant deaths                    2938 non-null   int64  \n",
      " 6   Alcohol                          2744 non-null   float64\n",
      " 7   percentage expenditure           2938 non-null   float64\n",
      " 8   Hepatitis B                      2385 non-null   float64\n",
      " 9   Measles                          2938 non-null   int64  \n",
      " 10   BMI                             2904 non-null   float64\n",
      " 11  under-five deaths                2938 non-null   int64  \n",
      " 12  Polio                            2919 non-null   float64\n",
      " 13  Total expenditure                2712 non-null   float64\n",
      " 14  Diphtheria                       2919 non-null   float64\n",
      " 15   HIV/AIDS                        2938 non-null   float64\n",
      " 16  GDP                              2490 non-null   float64\n",
      " 17  Population                       2286 non-null   float64\n",
      " 18   thinness  1-19 years            2904 non-null   float64\n",
      " 19   thinness 5-9 years              2904 non-null   float64\n",
      " 20  Income composition of resources  2771 non-null   float64\n",
      " 21  Schooling                        2775 non-null   float64\n",
      " 22  Smoking rate                     2938 non-null   float64\n",
      "dtypes: float64(17), int64(4), object(2)\n",
      "memory usage: 550.9+ KB\n"
     ]
    }
   ],
   "source": [
    "data.info()"
   ]
  },
  {
   "cell_type": "code",
   "execution_count": 23,
   "id": "d8a56426-e651-44c2-80b9-4a99a5530932",
   "metadata": {},
   "outputs": [],
   "source": [
    "data.columns = data.columns.str.strip().str.title().str.replace(' ', '_')\n",
    "data.columns = [col.upper() if col in ['Bmi', 'Hiv/Aids', 'Gdp'] else col for col in data.columns]"
   ]
  },
  {
   "cell_type": "code",
   "execution_count": 24,
   "id": "38edfb61-108c-42e4-a86b-a3ff05ad4666",
   "metadata": {},
   "outputs": [
    {
     "data": {
      "text/plain": [
       "Index(['Country', 'Year', 'Status', 'Life_Expectancy', 'Adult_Mortality',\n",
       "       'Infant_Deaths', 'Alcohol', 'Percentage_Expenditure', 'Hepatitis_B',\n",
       "       'Measles', 'BMI', 'Under-Five_Deaths', 'Polio', 'Total_Expenditure',\n",
       "       'Diphtheria', 'HIV/AIDS', 'GDP', 'Population', 'Thinness__1-19_Years',\n",
       "       'Thinness_5-9_Years', 'Income_Composition_Of_Resources', 'Schooling',\n",
       "       'Smoking_Rate'],\n",
       "      dtype='object')"
      ]
     },
     "execution_count": 24,
     "metadata": {},
     "output_type": "execute_result"
    }
   ],
   "source": [
    "data.columns"
   ]
  },
  {
   "cell_type": "code",
   "execution_count": null,
   "id": "1502496b-7ab8-448a-8082-5d3811666101",
   "metadata": {},
   "outputs": [],
   "source": [
    "data.to_csv('life_expectancy_data.csv', index=False)"
   ]
  }
 ],
 "metadata": {
  "kernelspec": {
   "display_name": "venv",
   "language": "python",
   "name": "python3"
  },
  "language_info": {
   "codemirror_mode": {
    "name": "ipython",
    "version": 3
   },
   "file_extension": ".py",
   "mimetype": "text/x-python",
   "name": "python",
   "nbconvert_exporter": "python",
   "pygments_lexer": "ipython3",
   "version": "3.10.6"
  }
 },
 "nbformat": 4,
 "nbformat_minor": 5
}
